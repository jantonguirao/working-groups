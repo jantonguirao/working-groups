{
 "cells": [
  {
   "cell_type": "code",
   "execution_count": 10,
   "id": "503aed0d",
   "metadata": {},
   "outputs": [
    {
     "name": "stdout",
     "output_type": "stream",
     "text": [
      "half_pixel:\n",
      " [[[100.         165.38461962]]]\n",
      "half_pixel_symmetric:\n",
      " [[[111.53846013 188.46153987]]]\n"
     ]
    }
   ],
   "source": [
    "import onnx\n",
    "import numpy as np\n",
    "from onnx.backend.test.case.node.resize import interpolate_nd, linear_coeffs\n",
    "\n",
    "coeffs = lambda x, _: linear_coeffs(x)\n",
    "\n",
    "data = np.array([[[100, 200]]], dtype=np.float32)\n",
    "scales = np.array([1.0, 1.0, 1.3], dtype=np.float32)\n",
    "\n",
    "#    elif coordinate_transformation_mode == 'half_pixel':\n",
    "#       x_ori = (x + 0.5) / scale_factor - 0.5\n",
    "# +  elif coordinate_transformation_mode == 'half_pixel_symmetric':\n",
    "# +     adjustment = int(output_width) / output_width\n",
    "# +     roi_start = 0\n",
    "# +     roi_end = input_width\n",
    "# +     center = (roi_start + roi_end) / 2\n",
    "# +     roi_start = (roi_start - center) * adjustment + center\n",
    "# +     x_ori = roi_start + (x + 0.5) / scale_factor - 0.5\n",
    "\n",
    "output = interpolate_nd(data, coeffs, scale_factors=scales,\n",
    "                        coordinate_transformation_mode='half_pixel')\n",
    "output2 = interpolate_nd(data, coeffs, scale_factors=scales,\n",
    "                         coordinate_transformation_mode='half_pixel_symmetric')\n",
    "\n",
    "print(\"half_pixel:\\n\", output)\n",
    "print(\"half_pixel_symmetric:\\n\", output2)"
   ]
  },
  {
   "cell_type": "code",
   "execution_count": 11,
   "id": "7d384fb7",
   "metadata": {},
   "outputs": [
    {
     "name": "stdout",
     "output_type": "stream",
     "text": [
      "[[[200.         134.61538038]]]\n",
      "[[[165.38461962 100.        ]]]\n"
     ]
    }
   ],
   "source": [
    "output_a = interpolate_nd(data[:, ::-1, ::-1], coeffs, scale_factors=scales,\n",
    "                          coordinate_transformation_mode='half_pixel')\n",
    "output_b = interpolate_nd(data, coeffs, scale_factors=scales,\n",
    "                          coordinate_transformation_mode='half_pixel')[:, ::-1, ::-1]\n",
    "print(output_a)\n",
    "print(output_b)"
   ]
  },
  {
   "cell_type": "code",
   "execution_count": 12,
   "id": "df2384d4",
   "metadata": {},
   "outputs": [
    {
     "name": "stdout",
     "output_type": "stream",
     "text": [
      "[[[188.46153987 111.53846013]]]\n",
      "[[[188.46153987 111.53846013]]]\n"
     ]
    }
   ],
   "source": [
    "output2_a = interpolate_nd(data[:, ::-1, ::-1], coeffs, scale_factors=scales,\n",
    "                          coordinate_transformation_mode='half_pixel_symmetric')\n",
    "output2_b = interpolate_nd(data, coeffs, scale_factors=scales,\n",
    "                          coordinate_transformation_mode='half_pixel_symmetric')[:, ::-1, ::-1]\n",
    "print(output2_a)\n",
    "print(output2_b)"
   ]
  },
  {
   "cell_type": "code",
   "execution_count": 3,
   "id": "2225ce22",
   "metadata": {},
   "outputs": [],
   "source": [
    "data = (np.random.rand(4,4,3) * 255).astype('uint8')\n",
    "scales = np.array([1.0, 0.875, 1], dtype=np.float32)\n",
    "\n",
    "flipped = data[:, ::-1, :]\n",
    "resized1 = interpolate_nd(data, coeffs, scale_factors=scales, coordinate_transformation_mode='half_pixel').astype(np.float32)\n",
    "resized2 = interpolate_nd(data, coeffs, scale_factors=scales, coordinate_transformation_mode='half_pixel_symmetric').astype(np.float32)"
   ]
  },
  {
   "cell_type": "code",
   "execution_count": 4,
   "id": "312cf26e",
   "metadata": {},
   "outputs": [
    {
     "data": {
      "text/plain": [
       "<matplotlib.image.AxesImage at 0x7f2272c39be0>"
      ]
     },
     "execution_count": 4,
     "metadata": {},
     "output_type": "execute_result"
    },
    {
     "data": {
      "image/png": "[encoded data removed]",
      "text/plain": [
       "<Figure size 432x288 with 1 Axes>"
      ]
     },
     "metadata": {
      "needs_background": "light"
     },
     "output_type": "display_data"
    }
   ],
   "source": [
    "import matplotlib.pyplot as plt\n",
    "plt.imshow(data)"
   ]
  },
  {
   "cell_type": "code",
   "execution_count": 5,
   "id": "044496cc",
   "metadata": {},
   "outputs": [
    {
     "data": {
      "text/plain": [
       "<matplotlib.image.AxesImage at 0x7f2270ad3460>"
      ]
     },
     "execution_count": 5,
     "metadata": {},
     "output_type": "execute_result"
    },
    {
     "data": {
      "image/png": "[encoded data removed]",
      "text/plain": [
       "<Figure size 432x288 with 1 Axes>"
      ]
     },
     "metadata": {
      "needs_background": "light"
     },
     "output_type": "display_data"
    }
   ],
   "source": [
    "plt.imshow(flipped.astype('uint8'))"
   ]
  },
  {
   "cell_type": "code",
   "execution_count": 6,
   "id": "4d4bf39d",
   "metadata": {},
   "outputs": [
    {
     "data": {
      "text/plain": [
       "<matplotlib.image.AxesImage at 0x7f2270abfee0>"
      ]
     },
     "execution_count": 6,
     "metadata": {},
     "output_type": "execute_result"
    },
    {
     "data": {
      "image/png": "[encoded data removed]",
      "text/plain": [
       "<Figure size 432x288 with 1 Axes>"
      ]
     },
     "metadata": {
      "needs_background": "light"
     },
     "output_type": "display_data"
    }
   ],
   "source": [
    "resized_flipped1 = resized1[:, ::-1, :]\n",
    "plt.imshow(resized_flipped1.astype('uint8'))"
   ]
  },
  {
   "cell_type": "code",
   "execution_count": 7,
   "id": "e8d153f0",
   "metadata": {},
   "outputs": [
    {
     "data": {
      "text/plain": [
       "<matplotlib.image.AxesImage at 0x7f2270a2bac0>"
      ]
     },
     "execution_count": 7,
     "metadata": {},
     "output_type": "execute_result"
    },
    {
     "data": {
      "image/png": "[encoded data removed]",
      "text/plain": [
       "<Figure size 432x288 with 1 Axes>"
      ]
     },
     "metadata": {
      "needs_background": "light"
     },
     "output_type": "display_data"
    }
   ],
   "source": [
    "flipped_resized1 = interpolate_nd(flipped, coeffs, scale_factors=scales,\n",
    "                                  coordinate_transformation_mode='half_pixel')\n",
    "plt.imshow(flipped_resized1.astype('uint8'))"
   ]
  },
  {
   "cell_type": "code",
   "execution_count": 8,
   "id": "681a9796",
   "metadata": {},
   "outputs": [
    {
     "data": {
      "text/plain": [
       "<matplotlib.image.AxesImage at 0x7f22709945b0>"
      ]
     },
     "execution_count": 8,
     "metadata": {},
     "output_type": "execute_result"
    },
    {
     "data": {
      "image/png": "[encoded data removed]",
      "text/plain": [
       "<Figure size 432x288 with 1 Axes>"
      ]
     },
     "metadata": {
      "needs_background": "light"
     },
     "output_type": "display_data"
    }
   ],
   "source": [
    "resized_flipped2 = resized2[:, ::-1, :]\n",
    "plt.imshow(resized_flipped2.astype('uint8'))"
   ]
  },
  {
   "cell_type": "code",
   "execution_count": 9,
   "id": "a13d61e4",
   "metadata": {},
   "outputs": [
    {
     "data": {
      "text/plain": [
       "<matplotlib.image.AxesImage at 0x7f227098c190>"
      ]
     },
     "execution_count": 9,
     "metadata": {},
     "output_type": "execute_result"
    },
    {
     "data": {
      "image/png": "[encoded data removed]",
      "text/plain": [
       "<Figure size 432x288 with 1 Axes>"
      ]
     },
     "metadata": {
      "needs_background": "light"
     },
     "output_type": "display_data"
    }
   ],
   "source": [
    "flipped_resized2 = interpolate_nd(flipped, coeffs, scale_factors=scales,\n",
    "                                  coordinate_transformation_mode='half_pixel_symmetric')\n",
    "plt.imshow(flipped_resized2.astype('uint8'))"
   ]
  }
 ],
 "metadata": {
  "kernelspec": {
   "display_name": "Python 3 (ipykernel)",
   "language": "python",
   "name": "python3"
  },
  "language_info": {
   "codemirror_mode": {
    "name": "ipython",
    "version": 3
   },
   "file_extension": ".py",
   "mimetype": "text/x-python",
   "name": "python",
   "nbconvert_exporter": "python",
   "pygments_lexer": "ipython3",
   "version": "3.8.10"
  }
 },
 "nbformat": 4,
 "nbformat_minor": 5
}
